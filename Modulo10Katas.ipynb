{
 "cells": [
  {
   "cell_type": "markdown",
   "metadata": {},
   "source": [
    "# Manejo de Errores Practica - Emiliano Loza"
   ]
  },
  {
   "cell_type": "markdown",
   "metadata": {},
   "source": [
    "En este caso pondremos en practica alguno de los conceptos aprendidos del modulo 10 en el manejo de errores."
   ]
  },
  {
   "cell_type": "markdown",
   "metadata": {},
   "source": [
    "Try y Except\n",
    "- Este script lo que hace es el manejo de errores comunes en una calculadora, como el introducir letras o dividir entre cero.\n",
    "- Al introducir cualquier de estos valores incorrectos este arroja un aviso."
   ]
  },
  {
   "cell_type": "code",
   "execution_count": 1,
   "metadata": {},
   "outputs": [
    {
     "name": "stdout",
     "output_type": "stream",
     "text": [
      "Debes introducir números\n"
     ]
    }
   ],
   "source": [
    "try:\n",
    "    numero1 = int(input(\"Introduce un número: \"))\n",
    "    numero2 = int(input(\"Introduce un segundo número: \"))\n",
    "    division = numero1 / numero2\n",
    "    print(\"{} / {} = {}\".format(numero1, numero2, division))\n",
    "except ValueError:\n",
    "    print(\"Debes introducir números\")\n",
    "except ZeroDivisionError:\n",
    "    print(\"Has intentado dividir un número entre cero\")"
   ]
  },
  {
   "cell_type": "markdown",
   "metadata": {},
   "source": [
    "Introduci la letra C y posterior a ello con la funcion except ValueError me arroja el mensaje de error."
   ]
  },
  {
   "cell_type": "markdown",
   "metadata": {},
   "source": [
    "### Uso de Raise"
   ]
  },
  {
   "cell_type": "code",
   "execution_count": 2,
   "metadata": {},
   "outputs": [
    {
     "name": "stdout",
     "output_type": "stream",
     "text": [
      "Exception : ZeroDivisionError('No puedes dividir entre cero')\n"
     ]
    }
   ],
   "source": [
    "a =1\n",
    "b =0\n",
    "try:\n",
    "    if b == 0:\n",
    "        raise ZeroDivisionError(\"No puedes dividir entre cero\")\n",
    "except Exception as e:\n",
    "    print(\"Exception : \" + repr(e))"
   ]
  },
  {
   "cell_type": "markdown",
   "metadata": {},
   "source": [
    "Raise nos viene muy util en especial cuando desarrollamos software y tenemos que nombrar errores dentro del contexto en el que estamos."
   ]
  }
 ],
 "metadata": {
  "interpreter": {
   "hash": "a4ac4f11d2820e73f4d452d0c4e6e7e7fa41a4ef6919b26eb938cfad053f45df"
  },
  "kernelspec": {
   "display_name": "Python 3.8.5 ('envLX': venv)",
   "language": "python",
   "name": "python3"
  },
  "language_info": {
   "codemirror_mode": {
    "name": "ipython",
    "version": 3
   },
   "file_extension": ".py",
   "mimetype": "text/x-python",
   "name": "python",
   "nbconvert_exporter": "python",
   "pygments_lexer": "ipython3",
   "version": "3.8.5"
  },
  "orig_nbformat": 4
 },
 "nbformat": 4,
 "nbformat_minor": 2
}
